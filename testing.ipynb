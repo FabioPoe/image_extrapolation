{
 "cells": [
  {
   "cell_type": "code",
   "execution_count": 44,
   "id": "0ddb067a-c947-4e63-b467-fda4672a7c3b",
   "metadata": {},
   "outputs": [],
   "source": [
    "import torch.nn as nn\n",
    "import torch\n",
    "import numpy as np\n",
    "import torch.nn.functional as F\n",
    "\n",
    "class autoencoder(nn.Module):\n",
    "    def __init__(self, ae_input_dim, ae_middle_dim, ae_hidden_dim):\n",
    "        super(autoencoder, self).__init__()\n",
    "        # encoder\n",
    "        self.encoder_linear1 = nn.Linear(ae_input_dim, ae_middle_dim)\n",
    "        self.encoder_linear2 = nn.Linear(ae_middle_dim, ae_hidden_dim)\n",
    "        # decoder\n",
    "        self.decoder_linear1 = nn.Linear(ae_hidden_dim, ae_middle_dim)\n",
    "        self.decoder_linear2 = nn.Linear(ae_middle_dim, ae_input_dim)\n",
    "\n",
    "    def encoder(self, x):\n",
    "        x = self.encoder_linear1(x)\n",
    "        x = F.relu(x)\n",
    "        x = self.encoder_linear2(x)\n",
    "        x = F.relu(x)\n",
    "        return x\n",
    "\n",
    "    def decoder(self, x):\n",
    "        x = self.decoder_linear1(x)\n",
    "        x = F.relu(x)\n",
    "        x = self.decoder_linear2(x)\n",
    "        x = torch.sigmoid(x)\n",
    "        return x\n",
    "\n",
    "    def forward(self, x):\n",
    "        hidden = self.encoder(x)\n",
    "        encoded = self.decoder(hidden)\n",
    "        return encoded\n",
    "\n",
    "ae = autoencoder(ae_input_dim=90*90, ae_middle_dim=80*80, ae_hidden_dim=70*70)"
   ]
  },
  {
   "cell_type": "code",
   "execution_count": 39,
   "id": "bbafdcb7-75fd-4c55-8c84-66ee053917d8",
   "metadata": {},
   "outputs": [
    {
     "data": {
      "text/plain": [
       "torch.Size([4, 1, 8100])"
      ]
     },
     "execution_count": 39,
     "metadata": {},
     "output_type": "execute_result"
    }
   ],
   "source": [
    "torch.tensor(np.random.uniform(size=(4,1,90,90))).type(torch.float32).view(4,1,90*90).shape"
   ]
  },
  {
   "cell_type": "code",
   "execution_count": 40,
   "id": "0eabfcbc-f930-47b6-bddd-0f358f8e09f9",
   "metadata": {},
   "outputs": [],
   "source": [
    "data = torch.tensor(np.random.uniform(size=(4,1,90,90))).type(torch.float32).view(4,1,90*90)"
   ]
  },
  {
   "cell_type": "code",
   "execution_count": 41,
   "id": "e5311b76-a155-44ae-9709-33ad374c0521",
   "metadata": {},
   "outputs": [],
   "source": [
    "ae = autoencoder(ae_input_dim=90*90, ae_middle_dim=80*80, ae_hidden_dim=70*70)"
   ]
  },
  {
   "cell_type": "code",
   "execution_count": 5,
   "id": "0c99ffac-8dfe-4902-90b8-4c9d3fa4e96b",
   "metadata": {},
   "outputs": [
    {
     "data": {
      "text/plain": [
       "autoencoder(\n",
       "  (encoder_linear1): Linear(in_features=8100, out_features=6400, bias=True)\n",
       "  (encoder_linear2): Linear(in_features=6400, out_features=4900, bias=True)\n",
       "  (decoder_linear1): Linear(in_features=4900, out_features=6400, bias=True)\n",
       "  (decoder_linear2): Linear(in_features=6400, out_features=8100, bias=True)\n",
       ")"
      ]
     },
     "execution_count": 5,
     "metadata": {},
     "output_type": "execute_result"
    }
   ],
   "source": [
    "ae"
   ]
  },
  {
   "cell_type": "code",
   "execution_count": 6,
   "id": "2564117d-c1cf-4ad6-9dcd-6ad14a3071d9",
   "metadata": {},
   "outputs": [
    {
     "data": {
      "text/plain": [
       "torch.Size([4, 1, 8100])"
      ]
     },
     "execution_count": 6,
     "metadata": {},
     "output_type": "execute_result"
    }
   ],
   "source": [
    "ae(data).shape"
   ]
  },
  {
   "cell_type": "code",
   "execution_count": 7,
   "id": "e3f85934-2f2f-4e54-a69e-28ac65e06187",
   "metadata": {},
   "outputs": [],
   "source": [
    "class CNN(nn.Module):\n",
    "    def __init__(self, n_input_channels: int, n_hidden_layers: int,\n",
    "                 n_hidden_kernels: int, n_output_channels: int):\n",
    "        \"\"\"CNN, consisting of `n_hidden_layers` linear layers, using relu\n",
    "        activation function in the hidden CNN layers.\n",
    "\n",
    "        Parameters\n",
    "        ----------\n",
    "        n_input_channels: int\n",
    "            Number of features channels in input tensor\n",
    "        n_hidden_layers: int\n",
    "            Number of hidden layers\n",
    "        n_hidden_kernels: int\n",
    "            Number of kernels in each hidden layer\n",
    "        n_output_channels: int\n",
    "            Number of features in output tensor\n",
    "        \"\"\"\n",
    "        super(CNN, self).__init__()\n",
    "\n",
    "        # encoder\n",
    "        hidden_layers = []\n",
    "        for _ in range(n_hidden_layers):\n",
    "            # Add a CNN layer\n",
    "            layer = nn.Conv2d(in_channels=n_input_channels,\n",
    "                              out_channels=n_hidden_kernels,\n",
    "                              kernel_size=7)\n",
    "            hidden_layers.append(layer)\n",
    "            # Add relu activation module to list of modules\n",
    "            hidden_layers.append(nn.ReLU())\n",
    "            n_input_channels = n_hidden_kernels\n",
    "\n",
    "        # decoder\n",
    "        for _ in range(n_hidden_layers + 1):\n",
    "            # Add a CNN layer\n",
    "            layer = nn.ConvTranspose2d(in_channels=n_input_channels,\n",
    "                                       out_channels=n_hidden_kernels,\n",
    "                                       kernel_size=7)\n",
    "            hidden_layers.append(layer)\n",
    "            # Add relu activation module to list of modules\n",
    "            hidden_layers.append(nn.ReLU())\n",
    "            n_input_channels = n_hidden_kernels\n",
    "\n",
    "        self.hidden_layers = nn.Sequential(*hidden_layers)\n",
    "\n",
    "        self.output_layer = nn.Conv2d(in_channels=n_input_channels,\n",
    "                                      out_channels=n_output_channels,\n",
    "                                      kernel_size=7)\n",
    "\n",
    "    def forward(self, x):\n",
    "        \"\"\"Apply CNN to `x`\n",
    "\n",
    "        Parameters\n",
    "        ----------\n",
    "        x: torch.tensor\n",
    "            Input tensor of shape (n_samples, n_input_channels, x, y)\n",
    "\n",
    "        Returns\n",
    "        ----------\n",
    "        torch.tensor\n",
    "            Output tensor of shape (n_samples, n_output_channels, u, v)\n",
    "        \"\"\"\n",
    "        # Apply hidden layers module\n",
    "        hidden_features = self.hidden_layers(x)\n",
    "\n",
    "        # Apply last layer (=output layer)\n",
    "        output = self.output_layer(hidden_features)\n",
    "\n",
    "        return output"
   ]
  },
  {
   "cell_type": "code",
   "execution_count": 8,
   "id": "a4f8d0e4-543c-444b-a428-6d4bdd725e7b",
   "metadata": {},
   "outputs": [
    {
     "data": {
      "text/plain": [
       "Net(\n",
       "  (conv1): Conv2d(3, 6, kernel_size=(5, 5), stride=(1, 1))\n",
       "  (pool): MaxPool2d(kernel_size=2, stride=2, padding=0, dilation=1, ceil_mode=False)\n",
       "  (conv2): Conv2d(6, 16, kernel_size=(5, 5), stride=(1, 1))\n",
       ")"
      ]
     },
     "execution_count": 8,
     "metadata": {},
     "output_type": "execute_result"
    }
   ],
   "source": [
    "import torch.nn as nn\n",
    "import torch.nn.functional as F\n",
    "\n",
    "\n",
    "class Net(nn.Module):\n",
    "    def __init__(self):\n",
    "        super().__init__()\n",
    "        self.conv1 = nn.Conv2d(3, 6, 5)\n",
    "        self.pool = nn.MaxPool2d(2, 2)\n",
    "        self.conv2 = nn.Conv2d(6, 16, 5)\n",
    "\n",
    "    def forward(self, x):\n",
    "        x = self.pool(F.relu(self.conv1(x)))\n",
    "        x = self.pool(F.relu(self.conv2(x)))\n",
    "        x = torch.flatten(x, 1) # flatten all dimensions except batch\n",
    "        return x\n",
    "\n",
    "\n",
    "net = Net()\n",
    "net\n"
   ]
  },
  {
   "cell_type": "code",
   "execution_count": 24,
   "id": "ccdc53a3-c631-4816-969e-c937573d7819",
   "metadata": {},
   "outputs": [],
   "source": [
    "import torch.nn as nn\n",
    "import torch\n",
    "import numpy as np\n",
    "import torch.nn.functional as F\n",
    "\n",
    "class CNN_AE(nn.Module):\n",
    "    def __init__(self, ae_input_dim, ae_hidden_dim, ae_middle_dim):\n",
    "        super(autoencoder, self).__init__()\n",
    "        # encoder\n",
    "        self.encoder_linear1 = nn.Linear(ae_input_dim, ae_middle_dim)\n",
    "        self.encoder_linear2 = nn.Linear(ae_middle_dim, ae_hidden_dim)\n",
    "        # convolution\n",
    "        self.conv1 = nn.Conv2d(3, 6, 5)\n",
    "        # deconvolution\n",
    "        self.conv2 = nn.Conv2d(6, 16, 5)\n",
    "        # decoder\n",
    "        self.decoder_linear1 = nn.Linear(ae_hidden_dim, ae_middle_dim)\n",
    "        self.decoder_linear2 = nn.Linear(ae_middle_dim, ae_input_dim)\n",
    "        \n",
    "        #encoder\n",
    "        \n",
    "        #decoder\n",
    "\n",
    "    def encoder(self, x):\n",
    "        x = self.encoder_linear1(x)\n",
    "        x = F.relu(x)\n",
    "        x = self.encoder_linear2(x)\n",
    "        x = F.relu(x)\n",
    "        return x\n",
    "\n",
    "    def decoder(self, x):\n",
    "        x = self.decoder_linear1(x)\n",
    "        x = F.relu(x)\n",
    "        x = self.decoder_linear2(x)\n",
    "        x = torch.sigmoid(x)\n",
    "        return x\n",
    "\n",
    "    def forward(self, x):\n",
    "        hidden = self.encoder(x)\n",
    "        \n",
    "        encoded = self.decoder(hidden)\n",
    "        return encoded"
   ]
  },
  {
   "cell_type": "code",
   "execution_count": 68,
   "id": "d3024ac3-beac-4f35-9692-53f4e24b468e",
   "metadata": {},
   "outputs": [
    {
     "data": {
      "text/plain": [
       "torch.Size([2, 1, 90, 90])"
      ]
     },
     "execution_count": 68,
     "metadata": {},
     "output_type": "execute_result"
    }
   ],
   "source": [
    "import torch.nn as nn\n",
    "import torch\n",
    "import numpy as np\n",
    "import torch.nn.functional as F\n",
    "\n",
    "class AE_CNN(nn.Module):\n",
    "    def __init__(self, ae_input_dim = 90*90, ae_middle_dim = 80*80, ae_hidden_dim = 70*70,\n",
    "                conv_inp_chan = 1, conv_output_chan = 1, conv_kernel_size = 5):\n",
    "        super(AE_CNN, self).__init__()\n",
    "        # encoder\n",
    "        self.encoder_linear1 = nn.Linear(ae_input_dim, ae_middle_dim)\n",
    "        self.encoder_linear2 = nn.Linear(ae_middle_dim, ae_hidden_dim)\n",
    "        # convolution\n",
    "        self.conv1 = nn.Conv2d(conv_inp_chan, conv_output_chan, conv_kernel_size)\n",
    "        # deconvolution\n",
    "        self.conv2 = nn.ConvTranspose2d(conv_inp_chan, conv_output_chan, conv_kernel_size)\n",
    "        # decoder\n",
    "        self.decoder_linear1 = nn.Linear(ae_hidden_dim, ae_middle_dim)\n",
    "        self.decoder_linear2 = nn.Linear(ae_middle_dim, ae_input_dim)\n",
    "\n",
    "    def encoder(self, x):\n",
    "        x = self.encoder_linear1(x)\n",
    "        x = F.relu(x)\n",
    "        x = self.encoder_linear2(x)\n",
    "        x = F.relu(x)\n",
    "        return x\n",
    "\n",
    "    def decoder(self, x):\n",
    "        x = self.decoder_linear1(x)\n",
    "        x = F.relu(x)\n",
    "        x = self.decoder_linear2(x)\n",
    "        x = torch.sigmoid(x)\n",
    "        return x\n",
    "\n",
    "    def forward(self, x):\n",
    "        x = x.view(-1,1,90*90)\n",
    "        x = self.encoder(x)\n",
    "        x = x.view(-1,1,70,70)\n",
    "        x = F.relu(self.conv1(x))\n",
    "        x = F.relu(self.conv2(x))\n",
    "        x = x.view(-1,1,70*70)\n",
    "        x = self.decoder(x)\n",
    "        x = x.view(-1,1,90,90)\n",
    "        return x\n",
    "    \n",
    "net = AE_CNN()\n",
    "data = torch.tensor(np.random.uniform(size=(2,1,90,90))).type(torch.float32)\n",
    "net(data).shape"
   ]
  },
  {
   "cell_type": "code",
   "execution_count": 66,
   "id": "b955c356-7fb1-43f8-87fd-4601018165e7",
   "metadata": {},
   "outputs": [
    {
     "data": {
      "text/plain": [
       "AE_CNN(\n",
       "  (encoder_linear1): Linear(in_features=8100, out_features=6400, bias=True)\n",
       "  (encoder_linear2): Linear(in_features=6400, out_features=4900, bias=True)\n",
       "  (conv1): Conv2d(1, 1, kernel_size=(5, 5), stride=(1, 1))\n",
       "  (conv2): ConvTranspose2d(1, 1, kernel_size=(5, 5), stride=(1, 1))\n",
       "  (decoder_linear1): Linear(in_features=4900, out_features=6400, bias=True)\n",
       "  (decoder_linear2): Linear(in_features=6400, out_features=8100, bias=True)\n",
       ")"
      ]
     },
     "execution_count": 66,
     "metadata": {},
     "output_type": "execute_result"
    }
   ],
   "source": [
    "net"
   ]
  },
  {
   "cell_type": "code",
   "execution_count": 54,
   "id": "56a52e2c-707a-4cc6-a5b5-ccf4f587f41d",
   "metadata": {},
   "outputs": [
    {
     "data": {
      "text/plain": [
       "torch.Size([4, 1, 90, 90])"
      ]
     },
     "execution_count": 54,
     "metadata": {},
     "output_type": "execute_result"
    }
   ],
   "source": [
    "data = torch.tensor(np.random.uniform(size=(4,1,90,90))).type(torch.float32)\n",
    "data.shape"
   ]
  },
  {
   "cell_type": "code",
   "execution_count": 35,
   "id": "b3b205ce-58c5-4ec9-8f82-8187e2a41d8e",
   "metadata": {},
   "outputs": [
    {
     "ename": "TypeError",
     "evalue": "super(type, obj): obj must be an instance or subtype of type",
     "output_type": "error",
     "traceback": [
      "\u001b[1;31m---------------------------------------------------------------------------\u001b[0m",
      "\u001b[1;31mTypeError\u001b[0m                                 Traceback (most recent call last)",
      "\u001b[1;32m<ipython-input-35-9777a2ecea48>\u001b[0m in \u001b[0;36m<module>\u001b[1;34m\u001b[0m\n\u001b[1;32m----> 1\u001b[1;33m \u001b[0mcnnae\u001b[0m \u001b[1;33m=\u001b[0m \u001b[0mCNN_AE\u001b[0m\u001b[1;33m(\u001b[0m\u001b[0mae_input_dim\u001b[0m\u001b[1;33m=\u001b[0m\u001b[1;36m90\u001b[0m\u001b[1;33m*\u001b[0m\u001b[1;36m90\u001b[0m\u001b[1;33m,\u001b[0m \u001b[0mae_middle_dim\u001b[0m\u001b[1;33m=\u001b[0m\u001b[1;36m80\u001b[0m\u001b[1;33m*\u001b[0m\u001b[1;36m80\u001b[0m\u001b[1;33m,\u001b[0m \u001b[0mae_hidden_dim\u001b[0m\u001b[1;33m=\u001b[0m\u001b[1;36m70\u001b[0m\u001b[1;33m*\u001b[0m\u001b[1;36m70\u001b[0m\u001b[1;33m)\u001b[0m\u001b[1;33m\u001b[0m\u001b[1;33m\u001b[0m\u001b[0m\n\u001b[0m",
      "\u001b[1;32m<ipython-input-33-0804ed2c33ce>\u001b[0m in \u001b[0;36m__init__\u001b[1;34m(self, ae_input_dim, ae_middle_dim, ae_hidden_dim)\u001b[0m\n\u001b[0;32m      6\u001b[0m \u001b[1;32mclass\u001b[0m \u001b[0mCNN_AE\u001b[0m\u001b[1;33m(\u001b[0m\u001b[0mnn\u001b[0m\u001b[1;33m.\u001b[0m\u001b[0mModule\u001b[0m\u001b[1;33m)\u001b[0m\u001b[1;33m:\u001b[0m\u001b[1;33m\u001b[0m\u001b[1;33m\u001b[0m\u001b[0m\n\u001b[0;32m      7\u001b[0m     \u001b[1;32mdef\u001b[0m \u001b[0m__init__\u001b[0m\u001b[1;33m(\u001b[0m\u001b[0mself\u001b[0m\u001b[1;33m,\u001b[0m \u001b[0mae_input_dim\u001b[0m\u001b[1;33m:\u001b[0m\u001b[0mint\u001b[0m\u001b[1;33m,\u001b[0m \u001b[0mae_middle_dim\u001b[0m\u001b[1;33m:\u001b[0m\u001b[0mint\u001b[0m\u001b[1;33m,\u001b[0m \u001b[0mae_hidden_dim\u001b[0m\u001b[1;33m:\u001b[0m\u001b[0mint\u001b[0m\u001b[1;33m)\u001b[0m\u001b[1;33m:\u001b[0m\u001b[1;33m\u001b[0m\u001b[1;33m\u001b[0m\u001b[0m\n\u001b[1;32m----> 8\u001b[1;33m         \u001b[0msuper\u001b[0m\u001b[1;33m(\u001b[0m\u001b[0mautoencoder\u001b[0m\u001b[1;33m,\u001b[0m \u001b[0mself\u001b[0m\u001b[1;33m)\u001b[0m\u001b[1;33m.\u001b[0m\u001b[0m__init__\u001b[0m\u001b[1;33m(\u001b[0m\u001b[1;33m)\u001b[0m\u001b[1;33m\u001b[0m\u001b[1;33m\u001b[0m\u001b[0m\n\u001b[0m\u001b[0;32m      9\u001b[0m         \u001b[1;31m# encoder\u001b[0m\u001b[1;33m\u001b[0m\u001b[1;33m\u001b[0m\u001b[1;33m\u001b[0m\u001b[0m\n\u001b[0;32m     10\u001b[0m         \u001b[0mself\u001b[0m\u001b[1;33m.\u001b[0m\u001b[0mencoder_linear1\u001b[0m \u001b[1;33m=\u001b[0m \u001b[0mnn\u001b[0m\u001b[1;33m.\u001b[0m\u001b[0mLinear\u001b[0m\u001b[1;33m(\u001b[0m\u001b[0mae_input_dim\u001b[0m\u001b[1;33m,\u001b[0m \u001b[0mae_middle_dim\u001b[0m\u001b[1;33m)\u001b[0m\u001b[1;33m\u001b[0m\u001b[1;33m\u001b[0m\u001b[0m\n",
      "\u001b[1;31mTypeError\u001b[0m: super(type, obj): obj must be an instance or subtype of type"
     ]
    }
   ],
   "source": [
    "cnnae = AE_(ae_input_dim=90*90, ae_middle_dim=80*80, ae_hidden_dim=70*70)"
   ]
  },
  {
   "cell_type": "code",
   "execution_count": 58,
   "id": "6db73efb-d846-42e4-a173-559a6308d59d",
   "metadata": {},
   "outputs": [
    {
     "ename": "NameError",
     "evalue": "name 'cnnae' is not defined",
     "output_type": "error",
     "traceback": [
      "\u001b[1;31m---------------------------------------------------------------------------\u001b[0m",
      "\u001b[1;31mNameError\u001b[0m                                 Traceback (most recent call last)",
      "\u001b[1;32m<ipython-input-58-40a9a7621e61>\u001b[0m in \u001b[0;36m<module>\u001b[1;34m\u001b[0m\n\u001b[1;32m----> 1\u001b[1;33m \u001b[0mcnnae\u001b[0m\u001b[1;33m(\u001b[0m\u001b[0mdata\u001b[0m\u001b[1;33m)\u001b[0m\u001b[1;33m.\u001b[0m\u001b[0mshape\u001b[0m\u001b[1;33m\u001b[0m\u001b[1;33m\u001b[0m\u001b[0m\n\u001b[0m",
      "\u001b[1;31mNameError\u001b[0m: name 'cnnae' is not defined"
     ]
    }
   ],
   "source": [
    "cnnae(data).shape"
   ]
  },
  {
   "cell_type": "code",
   "execution_count": null,
   "id": "82e9e1f2-610f-4025-8f69-6c181211aa6d",
   "metadata": {},
   "outputs": [],
   "source": []
  },
  {
   "cell_type": "code",
   "execution_count": null,
   "id": "8eee1f7b-24b3-48d6-9d80-6020d8c412cb",
   "metadata": {},
   "outputs": [],
   "source": []
  }
 ],
 "metadata": {
  "kernelspec": {
   "display_name": "Python 3",
   "language": "python",
   "name": "python3"
  },
  "language_info": {
   "codemirror_mode": {
    "name": "ipython",
    "version": 3
   },
   "file_extension": ".py",
   "mimetype": "text/x-python",
   "name": "python",
   "nbconvert_exporter": "python",
   "pygments_lexer": "ipython3",
   "version": "3.8.8"
  }
 },
 "nbformat": 4,
 "nbformat_minor": 5
}

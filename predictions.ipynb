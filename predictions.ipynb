{
 "cells": [
  {
   "cell_type": "code",
   "execution_count": 1,
   "id": "1576b66a-aa9a-4123-8e00-341202d3f0f2",
   "metadata": {},
   "outputs": [],
   "source": [
    "#creating the predictions on for the server"
   ]
  },
  {
   "cell_type": "code",
   "execution_count": 2,
   "id": "44a4fd35-7e4f-4c87-be5d-0f13842659cd",
   "metadata": {},
   "outputs": [],
   "source": [
    "import pickle\n",
    "import os\n",
    "import torch"
   ]
  },
  {
   "cell_type": "code",
   "execution_count": 3,
   "id": "3d5ed547-d91c-4cfc-83a7-886203197daf",
   "metadata": {},
   "outputs": [],
   "source": [
    "from PIL import Image\n",
    "import numpy as np\n",
    "\n",
    "def array_to_img(image):\n",
    "    img = Image.fromarray(image,)\n",
    "    img.show()"
   ]
  },
  {
   "cell_type": "code",
   "execution_count": 4,
   "id": "e4d08a88-7598-4f34-b6c8-fa81997f1d0d",
   "metadata": {},
   "outputs": [
    {
     "data": {
      "text/plain": [
       "208"
      ]
     },
     "execution_count": 4,
     "metadata": {},
     "output_type": "execute_result"
    }
   ],
   "source": [
    "#open the testfile\n",
    "import pickle\n",
    "import os\n",
    "with open(os.path.join('data','testset.pkl'), 'rb') as pickle_file:\n",
    "    arrays = pickle.load(pickle_file)\n",
    "len(arrays['input_arrays'])"
   ]
  },
  {
   "cell_type": "code",
   "execution_count": 5,
   "id": "2a7f947b-ad2b-4647-83cc-bafa806dcce0",
   "metadata": {},
   "outputs": [],
   "source": [
    "# import the model:\n",
    "model = torch.load(os.path.join(\"colab\", \"my_pc_cnn.pt\"),map_location=torch.device('cpu'))"
   ]
  },
  {
   "cell_type": "code",
   "execution_count": 6,
   "id": "fc67a2c0-bde5-4db9-8aaa-80d481b2d9ef",
   "metadata": {},
   "outputs": [
    {
     "data": {
      "text/plain": [
       "CNN(\n",
       "  (hidden_layers): Sequential(\n",
       "    (0): Conv2d(1, 32, kernel_size=(7, 7), stride=(1, 1))\n",
       "    (1): ReLU()\n",
       "    (2): Conv2d(32, 32, kernel_size=(7, 7), stride=(1, 1))\n",
       "    (3): ReLU()\n",
       "    (4): Conv2d(32, 32, kernel_size=(7, 7), stride=(1, 1))\n",
       "    (5): ReLU()\n",
       "    (6): ConvTranspose2d(32, 32, kernel_size=(7, 7), stride=(1, 1))\n",
       "    (7): ReLU()\n",
       "    (8): ConvTranspose2d(32, 32, kernel_size=(7, 7), stride=(1, 1))\n",
       "    (9): ReLU()\n",
       "    (10): ConvTranspose2d(32, 32, kernel_size=(7, 7), stride=(1, 1))\n",
       "    (11): ReLU()\n",
       "    (12): ConvTranspose2d(32, 32, kernel_size=(7, 7), stride=(1, 1))\n",
       "    (13): ReLU()\n",
       "  )\n",
       "  (output_layer): Conv2d(32, 1, kernel_size=(7, 7), stride=(1, 1))\n",
       "  (linear1): Linear(in_features=8100, out_features=8100, bias=True)\n",
       ")"
      ]
     },
     "execution_count": 6,
     "metadata": {},
     "output_type": "execute_result"
    }
   ],
   "source": [
    "model"
   ]
  },
  {
   "cell_type": "code",
   "execution_count": 7,
   "id": "4fa60da0-5ba4-4092-9127-dc76c3462520",
   "metadata": {},
   "outputs": [],
   "source": [
    "#creating the predictions\n",
    "predictions_img = []\n",
    "predictions_server = []\n",
    "for i in range(len(arrays['input_arrays'])):\n",
    "    inp = arrays['input_arrays'][i].reshape(1,1,90,90)\n",
    "    out = model(torch.tensor(inp,dtype = torch.float32)/255)\n",
    "    predictions_img.append(out*255)\n",
    "    mask = arrays['known_arrays'][i]\n",
    "    predictions_server.append(np.array((out[0][0]*255)[mask==0].detach().numpy(),dtype=np.uint8))"
   ]
  },
  {
   "cell_type": "code",
   "execution_count": 8,
   "id": "a60910c9-8031-48bd-a01f-5374ef3ad606",
   "metadata": {},
   "outputs": [],
   "source": [
    "array_to_img(arrays['input_arrays'][1])"
   ]
  },
  {
   "cell_type": "code",
   "execution_count": 9,
   "id": "de9b8ed4-1acf-4c9c-a830-47b6adc727af",
   "metadata": {},
   "outputs": [],
   "source": [
    "#looking at an image\n",
    "for r in range(10):\n",
    "    array_to_img(predictions_img[r][0][0].detach().numpy())\n",
    "    "
   ]
  },
  {
   "cell_type": "code",
   "execution_count": 8,
   "id": "1d98045c-bca6-44e6-a35d-23a3b48839de",
   "metadata": {},
   "outputs": [],
   "source": [
    "#creating the submissions file"
   ]
  },
  {
   "cell_type": "code",
   "execution_count": 12,
   "id": "1ecb34f1-e819-4c44-9508-e8822f81e1a4",
   "metadata": {},
   "outputs": [],
   "source": [
    "with open(os.path.join('data','cnn_final_prediction.pkl'), 'wb') as pickle_file:\n",
    "    pickle.dump(predictions_server, pickle_file)"
   ]
  },
  {
   "cell_type": "code",
   "execution_count": 10,
   "id": "eed88b64-a2bb-4ee4-9102-ae76b9f3dfe7",
   "metadata": {},
   "outputs": [
    {
     "data": {
      "text/plain": [
       "[array([ 98, 100,  99, ...,  60,  62,  63], dtype=uint8),\n",
       " array([235, 242, 243, ...,  36,  39,  41], dtype=uint8),\n",
       " array([ 99, 101, 101, ...,  93,  94,  93], dtype=uint8),\n",
       " array([166, 181, 189, ...,  20,  23,  26], dtype=uint8),\n",
       " array([26, 23, 22, ..., 56, 59, 60], dtype=uint8),\n",
       " array([145, 153, 156, ...,  65,  65,  63], dtype=uint8),\n",
       " array([109, 110, 109, ..., 115, 115, 110], dtype=uint8),\n",
       " array([143, 157, 163, ...,  63,  66,  67], dtype=uint8),\n",
       " array([155, 159, 159, ..., 108, 108, 103], dtype=uint8),\n",
       " array([183, 186, 184, ..., 157, 153, 141], dtype=uint8),\n",
       " array([ 84,  85,  84, ..., 109, 108, 104], dtype=uint8),\n",
       " array([ 60,  61,  62, ..., 107, 107, 102], dtype=uint8),\n",
       " array([211, 217, 216, ..., 125, 125, 119], dtype=uint8),\n",
       " array([69, 71, 71, ..., 98, 99, 95], dtype=uint8),\n",
       " array([227, 234, 235, ...,  25,  28,  31], dtype=uint8),\n",
       " array([212, 219, 220, ...,  96,  95,  90], dtype=uint8),\n",
       " array([80, 81, 79, ..., 71, 72, 71], dtype=uint8),\n",
       " array([114, 117, 116, ..., 107, 107, 102], dtype=uint8),\n",
       " array([171, 174, 174, ..., 164, 162, 152], dtype=uint8),\n",
       " array([151, 154, 154, ..., 130, 129, 123], dtype=uint8),\n",
       " array([66, 69, 69, ..., 73, 74, 72], dtype=uint8),\n",
       " array([105, 109, 110, ...,  95,  93,  88], dtype=uint8),\n",
       " array([ 79,  81,  80, ..., 113, 111, 103], dtype=uint8),\n",
       " array([128, 132, 133, ..., 168, 165, 155], dtype=uint8),\n",
       " array([ 80,  81,  80, ..., 123, 123, 118], dtype=uint8),\n",
       " array([106, 106, 104, ..., 135, 132, 122], dtype=uint8),\n",
       " array([219, 229, 233, ..., 214, 209, 196], dtype=uint8),\n",
       " array([ 89,  91,  92, ..., 164, 161, 152], dtype=uint8),\n",
       " array([ 61,  62,  62, ..., 126, 125, 118], dtype=uint8),\n",
       " array([56, 59, 61, ..., 77, 78, 76], dtype=uint8),\n",
       " array([ 84,  85,  84, ..., 130, 128, 118], dtype=uint8),\n",
       " array([69, 70, 70, ..., 96, 97, 94], dtype=uint8),\n",
       " array([64, 63, 61, ..., 61, 62, 62], dtype=uint8),\n",
       " array([190, 201, 204, ..., 133, 132, 126], dtype=uint8),\n",
       " array([118, 120, 120, ..., 146, 146, 140], dtype=uint8),\n",
       " array([ 51,  53,  55, ..., 174, 171, 161], dtype=uint8),\n",
       " array([96, 96, 95, ..., 40, 41, 41], dtype=uint8),\n",
       " array([ 92,  93,  92, ..., 132, 130, 123], dtype=uint8),\n",
       " array([ 88,  90,  91, ..., 176, 172, 162], dtype=uint8),\n",
       " array([195, 198, 197, ...,  26,  29,  31], dtype=uint8),\n",
       " array([214, 222, 223, ...,  22,  25,  28], dtype=uint8),\n",
       " array([158, 163, 163, ...,  89,  90,  89], dtype=uint8),\n",
       " array([105, 106, 106, ..., 113, 112, 106], dtype=uint8),\n",
       " array([186, 193, 196, ..., 139, 136, 125], dtype=uint8),\n",
       " array([209, 220, 224, ...,  22,  25,  28], dtype=uint8),\n",
       " array([130, 133, 133, ...,  22,  25,  28], dtype=uint8),\n",
       " array([142, 146, 147, ..., 105, 105, 101], dtype=uint8),\n",
       " array([202, 208, 208, ...,  93,  93,  89], dtype=uint8),\n",
       " array([ 87,  88,  88, ..., 103, 103,  98], dtype=uint8),\n",
       " array([116, 118, 116, ..., 109, 109, 104], dtype=uint8),\n",
       " array([102, 105, 105, ...,  61,  63,  62], dtype=uint8),\n",
       " array([75, 76, 74, ..., 67, 69, 69], dtype=uint8),\n",
       " array([143, 150, 152, ..., 106, 106, 101], dtype=uint8),\n",
       " array([86, 86, 83, ..., 75, 78, 79], dtype=uint8),\n",
       " array([92, 94, 95, ..., 90, 91, 89], dtype=uint8),\n",
       " array([95, 97, 96, ..., 91, 91, 88], dtype=uint8),\n",
       " array([121, 127, 128, ...,  79,  80,  79], dtype=uint8),\n",
       " array([121, 123, 122, ..., 128, 128, 122], dtype=uint8),\n",
       " array([ 78,  80,  80, ..., 177, 174, 164], dtype=uint8),\n",
       " array([ 80,  81,  80, ..., 181, 178, 167], dtype=uint8),\n",
       " array([ 49,  48,  47, ..., 126, 125, 119], dtype=uint8),\n",
       " array([ 57,  57,  57, ..., 162, 159, 151], dtype=uint8),\n",
       " array([121, 125, 125, ..., 114, 114, 110], dtype=uint8),\n",
       " array([ 43,  41,  40, ..., 114, 110, 102], dtype=uint8),\n",
       " array([ 45,  43,  42, ..., 143, 138, 127], dtype=uint8),\n",
       " array([ 78,  78,  77, ..., 117, 118, 113], dtype=uint8),\n",
       " array([112, 111, 108, ...,  60,  61,  59], dtype=uint8),\n",
       " array([184, 190, 190, ..., 115, 114, 109], dtype=uint8),\n",
       " array([140, 142, 140, ...,  91,  91,  88], dtype=uint8),\n",
       " array([114, 116, 116, ..., 105, 104,  99], dtype=uint8),\n",
       " array([157, 160, 159, ..., 168, 166, 156], dtype=uint8),\n",
       " array([125, 129, 128, ..., 168, 166, 156], dtype=uint8),\n",
       " array([150, 161, 167, ..., 134, 134, 130], dtype=uint8),\n",
       " array([196, 198, 194, ..., 109, 109, 105], dtype=uint8),\n",
       " array([154, 159, 159, ...,  45,  48,  49], dtype=uint8),\n",
       " array([130, 133, 133, ..., 140, 138, 130], dtype=uint8),\n",
       " array([72, 73, 72, ..., 55, 57, 57], dtype=uint8),\n",
       " array([147, 150, 149, ...,  37,  39,  41], dtype=uint8),\n",
       " array([125, 128, 127, ..., 133, 134, 128], dtype=uint8),\n",
       " array([ 90,  92,  92, ..., 169, 167, 157], dtype=uint8),\n",
       " array([241, 250, 252, ..., 176, 171, 158], dtype=uint8),\n",
       " array([234, 240, 240, ...,  71,  73,  71], dtype=uint8),\n",
       " array([197, 203, 204, ...,  76,  77,  76], dtype=uint8),\n",
       " array([168, 171, 171, ..., 123, 123, 117], dtype=uint8),\n",
       " array([54, 53, 52, ..., 40, 43, 44], dtype=uint8),\n",
       " array([115, 118, 119, ..., 137, 137, 132], dtype=uint8),\n",
       " array([199, 203, 203, ...,  74,  74,  71], dtype=uint8),\n",
       " array([65, 66, 66, ..., 74, 75, 74], dtype=uint8),\n",
       " array([67, 68, 67, ..., 72, 74, 73], dtype=uint8),\n",
       " array([137, 141, 142, ...,  88,  89,  87], dtype=uint8),\n",
       " array([186, 190, 190, ...,  77,  78,  77], dtype=uint8),\n",
       " array([200, 205, 205, ..., 116, 115, 110], dtype=uint8),\n",
       " array([215, 227, 231, ...,  78,  79,  77], dtype=uint8),\n",
       " array([151, 154, 153, ...,  79,  80,  78], dtype=uint8),\n",
       " array([149, 152, 152, ..., 122, 121, 115], dtype=uint8),\n",
       " array([192, 200, 201, ...,  19,  23,  26], dtype=uint8),\n",
       " array([106, 111, 112, ..., 164, 159, 147], dtype=uint8),\n",
       " array([174, 175, 171, ...,  33,  34,  35], dtype=uint8),\n",
       " array([225, 230, 229, ...,  77,  78,  78], dtype=uint8),\n",
       " array([115, 116, 116, ...,  42,  45,  46], dtype=uint8),\n",
       " array([45, 43, 42, ..., 56, 57, 57], dtype=uint8),\n",
       " array([172, 176, 175, ...,  67,  69,  68], dtype=uint8),\n",
       " array([126, 130, 129, ...,  28,  30,  32], dtype=uint8),\n",
       " array([184, 188, 187, ..., 138, 136, 129], dtype=uint8),\n",
       " array([70, 71, 69, ..., 16, 19, 23], dtype=uint8),\n",
       " array([62, 62, 61, ..., 17, 20, 24], dtype=uint8),\n",
       " array([200, 209, 212, ...,  94,  95,  92], dtype=uint8),\n",
       " array([180, 185, 184, ...,  55,  57,  57], dtype=uint8),\n",
       " array([ 70,  73,  74, ..., 115, 114, 110], dtype=uint8),\n",
       " array([146, 148, 147, ...,  93,  93,  89], dtype=uint8),\n",
       " array([100, 105, 109, ..., 103, 102,  98], dtype=uint8),\n",
       " array([123, 125, 123, ..., 121, 119, 110], dtype=uint8),\n",
       " array([101, 105, 106, ...,  89,  90,  88], dtype=uint8),\n",
       " array([189, 194, 194, ..., 124, 121, 112], dtype=uint8),\n",
       " array([161, 164, 162, ..., 106, 106, 102], dtype=uint8),\n",
       " array([116, 117, 115, ..., 110, 110, 106], dtype=uint8),\n",
       " array([ 82,  86,  89, ..., 140, 138, 130], dtype=uint8),\n",
       " array([ 39,  37,  37, ..., 104, 104, 101], dtype=uint8),\n",
       " array([191, 196, 196, ..., 116, 116, 111], dtype=uint8),\n",
       " array([123, 126, 125, ...,  70,  71,  70], dtype=uint8),\n",
       " array([118, 119, 117, ..., 157, 156, 148], dtype=uint8),\n",
       " array([ 97,  98,  97, ..., 131, 130, 124], dtype=uint8),\n",
       " array([113, 114, 112, ...,  84,  85,  83], dtype=uint8),\n",
       " array([204, 212, 214, ...,  55,  57,  57], dtype=uint8),\n",
       " array([ 65,  66,  66, ..., 176, 174, 163], dtype=uint8),\n",
       " array([132, 133, 132, ...,  56,  58,  58], dtype=uint8),\n",
       " array([ 90,  93,  92, ..., 161, 159, 150], dtype=uint8),\n",
       " array([206, 211, 211, ...,  79,  80,  77], dtype=uint8),\n",
       " array([133, 135, 133, ...,  72,  74,  73], dtype=uint8),\n",
       " array([93, 94, 94, ..., 82, 84, 84], dtype=uint8),\n",
       " array([199, 204, 202, ...,  80,  81,  79], dtype=uint8),\n",
       " array([208, 214, 214, ..., 109, 109, 105], dtype=uint8),\n",
       " array([181, 188, 191, ..., 163, 160, 150], dtype=uint8),\n",
       " array([117, 119, 119, ...,  80,  81,  80], dtype=uint8),\n",
       " array([149, 152, 151, ...,  71,  73,  71], dtype=uint8),\n",
       " array([160, 164, 164, ...,  75,  76,  74], dtype=uint8),\n",
       " array([108, 110, 109, ..., 121, 121, 115], dtype=uint8),\n",
       " array([141, 146, 145, ...,  97,  98,  95], dtype=uint8),\n",
       " array([170, 175, 175, ..., 118, 116, 110], dtype=uint8),\n",
       " array([ 50,  48,  47, ..., 168, 163, 149], dtype=uint8),\n",
       " array([133, 136, 135, ..., 141, 140, 133], dtype=uint8),\n",
       " array([ 58,  57,  55, ..., 147, 146, 139], dtype=uint8),\n",
       " array([193, 199, 199, ..., 139, 137, 129], dtype=uint8),\n",
       " array([174, 178, 178, ..., 133, 132, 126], dtype=uint8),\n",
       " array([207, 212, 213, ..., 156, 152, 140], dtype=uint8),\n",
       " array([166, 170, 170, ..., 129, 128, 122], dtype=uint8),\n",
       " array([204, 211, 212, ..., 162, 158, 147], dtype=uint8),\n",
       " array([121, 123, 122, ..., 159, 158, 149], dtype=uint8),\n",
       " array([84, 86, 86, ..., 95, 96, 94], dtype=uint8),\n",
       " array([203, 208, 208, ..., 177, 175, 165], dtype=uint8),\n",
       " array([94, 95, 96, ..., 89, 88, 83], dtype=uint8),\n",
       " array([44, 43, 42, ..., 96, 97, 94], dtype=uint8),\n",
       " array([90, 92, 92, ..., 31, 34, 36], dtype=uint8),\n",
       " array([190, 195, 195, ..., 167, 161, 148], dtype=uint8),\n",
       " array([179, 184, 183, ..., 172, 170, 161], dtype=uint8),\n",
       " array([166, 174, 177, ..., 168, 166, 157], dtype=uint8),\n",
       " array([ 48,  46,  45, ..., 123, 121, 112], dtype=uint8),\n",
       " array([196, 203, 204, ..., 101, 102,  98], dtype=uint8),\n",
       " array([183, 188, 188, ..., 124, 123, 119], dtype=uint8),\n",
       " array([168, 173, 173, ..., 115, 115, 110], dtype=uint8),\n",
       " array([122, 125, 124, ..., 117, 116, 111], dtype=uint8),\n",
       " array([148, 153, 153, ..., 136, 136, 131], dtype=uint8),\n",
       " array([87, 86, 84, ..., 71, 73, 71], dtype=uint8),\n",
       " array([83, 82, 80, ..., 48, 50, 51], dtype=uint8),\n",
       " array([106, 104, 100, ..., 159, 157, 148], dtype=uint8),\n",
       " array([179, 183, 183, ...,  66,  67,  65], dtype=uint8),\n",
       " array([203, 208, 208, ..., 162, 158, 148], dtype=uint8),\n",
       " array([87, 91, 93, ..., 53, 55, 56], dtype=uint8),\n",
       " array([123, 123, 121, ...,  61,  63,  63], dtype=uint8),\n",
       " array([189, 197, 199, ..., 105, 105, 101], dtype=uint8),\n",
       " array([132, 134, 134, ..., 145, 144, 136], dtype=uint8),\n",
       " array([114, 114, 112, ..., 119, 119, 115], dtype=uint8),\n",
       " array([112, 113, 112, ...,  64,  66,  65], dtype=uint8),\n",
       " array([158, 169, 172, ..., 129, 127, 120], dtype=uint8),\n",
       " array([180, 185, 186, ..., 170, 165, 152], dtype=uint8),\n",
       " array([74, 74, 72, ..., 97, 97, 92], dtype=uint8),\n",
       " array([ 93,  97,  98, ..., 141, 139, 130], dtype=uint8),\n",
       " array([108, 113, 114, ...,  83,  84,  82], dtype=uint8),\n",
       " array([127, 129, 128, ...,  54,  56,  56], dtype=uint8),\n",
       " array([183, 188, 188, ...,  70,  72,  71], dtype=uint8),\n",
       " array([ 51,  50,  49, ..., 105, 106, 103], dtype=uint8),\n",
       " array([ 99, 101, 100, ..., 143, 141, 134], dtype=uint8),\n",
       " array([138, 141, 140, ...,  79,  81,  79], dtype=uint8),\n",
       " array([122, 128, 129, ..., 176, 173, 163], dtype=uint8),\n",
       " array([ 45,  43,  42, ..., 128, 126, 119], dtype=uint8),\n",
       " array([153, 156, 155, ..., 181, 178, 167], dtype=uint8),\n",
       " array([115, 119, 120, ..., 106, 107, 103], dtype=uint8),\n",
       " array([ 87,  88,  87, ..., 167, 165, 155], dtype=uint8),\n",
       " array([186, 191, 190, ..., 149, 147, 139], dtype=uint8),\n",
       " array([ 92,  90,  87, ..., 149, 147, 139], dtype=uint8),\n",
       " array([125, 132, 134, ..., 129, 128, 122], dtype=uint8),\n",
       " array([158, 163, 163, ..., 130, 128, 122], dtype=uint8),\n",
       " array([79, 78, 76, ..., 52, 55, 55], dtype=uint8),\n",
       " array([110, 113, 113, ..., 126, 124, 118], dtype=uint8),\n",
       " array([196, 199, 197, ...,  35,  38,  40], dtype=uint8),\n",
       " array([191, 195, 195, ..., 165, 163, 154], dtype=uint8),\n",
       " array([103, 110, 114, ..., 112, 110, 103], dtype=uint8),\n",
       " array([158, 161, 161, ..., 182, 180, 171], dtype=uint8),\n",
       " array([166, 169, 168, ..., 133, 132, 126], dtype=uint8),\n",
       " array([185, 190, 190, ..., 101, 100,  94], dtype=uint8),\n",
       " array([ 43,  41,  40, ..., 149, 147, 138], dtype=uint8),\n",
       " array([95, 94, 91, ..., 67, 69, 69], dtype=uint8),\n",
       " array([174, 178, 178, ...,  84,  85,  82], dtype=uint8),\n",
       " array([144, 161, 170, ..., 139, 136, 128], dtype=uint8),\n",
       " array([183, 187, 187, ..., 152, 150, 142], dtype=uint8),\n",
       " array([125, 129, 130, ...,  58,  60,  61], dtype=uint8),\n",
       " array([127, 129, 129, ...,  76,  77,  75], dtype=uint8),\n",
       " array([126, 127, 125, ..., 118, 119, 116], dtype=uint8)]"
      ]
     },
     "execution_count": 10,
     "metadata": {},
     "output_type": "execute_result"
    }
   ],
   "source": [
    "#open the testfile\n",
    "import pickle\n",
    "import os\n",
    "with open(os.path.join('data','cnn_final_prediction.pkl'), 'rb') as pickle_file:\n",
    "    convolution = pickle.load(pickle_file)\n",
    "convolution"
   ]
  },
  {
   "cell_type": "code",
   "execution_count": 11,
   "id": "f6d25ca1-187b-4d6b-8815-c90f72184809",
   "metadata": {},
   "outputs": [
    {
     "data": {
      "text/plain": [
       "(2324,)"
      ]
     },
     "execution_count": 11,
     "metadata": {},
     "output_type": "execute_result"
    }
   ],
   "source": [
    "#open the testfile\n",
    "import pickle\n",
    "import os\n",
    "with open(os.path.join('data','testset_submission_random.pkl'), 'rb') as pickle_file:\n",
    "    random = pickle.load(pickle_file)\n",
    "random[0].shape"
   ]
  },
  {
   "cell_type": "code",
   "execution_count": null,
   "id": "7d372618-9f8e-4452-acab-813553ede4fa",
   "metadata": {},
   "outputs": [],
   "source": []
  },
  {
   "cell_type": "code",
   "execution_count": 88,
   "id": "0eee6e8d-d968-40e0-974e-eedeaa6d9f38",
   "metadata": {},
   "outputs": [
    {
     "data": {
      "text/plain": [
       "array([[118, 225, 107, 251],\n",
       "       [193, 102, 192,  42],\n",
       "       [127,  13,  49,  30],\n",
       "       [230,  24, 131, 154]])"
      ]
     },
     "execution_count": 88,
     "metadata": {},
     "output_type": "execute_result"
    }
   ],
   "source": [
    "mask = np.array([[0,1,1,0],[0,1,1,0],[0,1,1,0],[0,1,1,0],])\n",
    "arr = np.random.randint(0,255,(4,4))\n",
    "arr"
   ]
  },
  {
   "cell_type": "code",
   "execution_count": 90,
   "id": "fc97af34-d7d1-40dd-8570-07589b33e0f6",
   "metadata": {},
   "outputs": [
    {
     "data": {
      "text/plain": [
       "array([[0, 1, 1, 0],\n",
       "       [0, 1, 1, 0],\n",
       "       [0, 1, 1, 0],\n",
       "       [0, 1, 1, 0]])"
      ]
     },
     "execution_count": 90,
     "metadata": {},
     "output_type": "execute_result"
    }
   ],
   "source": [
    "mask"
   ]
  },
  {
   "cell_type": "code",
   "execution_count": 96,
   "id": "eaa6a36d-19c2-4795-8241-907968f08f73",
   "metadata": {},
   "outputs": [
    {
     "data": {
      "text/plain": [
       "array([118, 251, 193,  42, 127,  30, 230, 154])"
      ]
     },
     "execution_count": 96,
     "metadata": {},
     "output_type": "execute_result"
    }
   ],
   "source": [
    "arr[mask==0]"
   ]
  },
  {
   "cell_type": "code",
   "execution_count": 94,
   "id": "b248ad83-4d77-42f3-abe3-9a348553f70f",
   "metadata": {},
   "outputs": [
    {
     "data": {
      "text/plain": [
       "array([0, 0, 0, 0, 0, 0, 0, 0, 0, 1, 1, 1, 1, 1, 1, 1, 1, 1, 1, 1, 1, 1,\n",
       "       1, 1, 1, 1, 1, 1, 1, 1, 1, 1, 1, 1, 1, 1, 1, 1, 1, 1, 1, 1, 1, 1,\n",
       "       1, 1, 1, 1, 1, 1, 1, 1, 1, 1, 1, 1, 1, 1, 1, 1, 1, 1, 1, 1, 1, 1,\n",
       "       1, 1, 1, 1, 1, 1, 1, 1, 1, 1, 1, 1, 1, 1, 1, 1, 1, 1, 1, 0, 0, 0,\n",
       "       0, 0], dtype=uint8)"
      ]
     },
     "execution_count": 94,
     "metadata": {},
     "output_type": "execute_result"
    }
   ],
   "source": [
    "arrays['known_arrays'][0][9]"
   ]
  },
  {
   "cell_type": "code",
   "execution_count": null,
   "id": "89b5477a-8cbb-49a2-bc3f-e4e7a27e7352",
   "metadata": {},
   "outputs": [],
   "source": []
  },
  {
   "cell_type": "code",
   "execution_count": null,
   "id": "0b8d4754-2fbc-4442-8a5b-0208a63f4c7d",
   "metadata": {},
   "outputs": [],
   "source": []
  }
 ],
 "metadata": {
  "kernelspec": {
   "display_name": "Python 3",
   "language": "python",
   "name": "python3"
  },
  "language_info": {
   "codemirror_mode": {
    "name": "ipython",
    "version": 3
   },
   "file_extension": ".py",
   "mimetype": "text/x-python",
   "name": "python",
   "nbconvert_exporter": "python",
   "pygments_lexer": "ipython3",
   "version": "3.8.10"
  }
 },
 "nbformat": 4,
 "nbformat_minor": 5
}
